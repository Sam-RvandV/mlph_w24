{
 "cells": [
  {
   "cell_type": "code",
   "execution_count": 1,
   "metadata": {},
   "outputs": [],
   "source": [
    "import torch as t"
   ]
  },
  {
   "cell_type": "code",
   "execution_count": null,
   "metadata": {},
   "outputs": [
    {
     "name": "stdout",
     "output_type": "stream",
     "text": [
      "dy/dx = 23.425395965576172\n",
      "dy/dc = -10.0\n"
     ]
    }
   ],
   "source": [
    "x = t.tensor(3.0, requires_grad=True)  \n",
    "c = t.tensor(5.0, requires_grad=True)  \n",
    "\n",
    "\n",
    "out = (x**2/t.log2(x) + c) * (x**2/t.log2(x) - c) \n",
    "\n",
    "out.backward()\n",
    "\n",
    "print(f\"dy/dx = {x.grad}\") \n",
    "print(f\"dy/dc = {c.grad}\")  "
   ]
  }
 ],
 "metadata": {
  "kernelspec": {
   "display_name": "mlph3",
   "language": "python",
   "name": "python3"
  },
  "language_info": {
   "codemirror_mode": {
    "name": "ipython",
    "version": 3
   },
   "file_extension": ".py",
   "mimetype": "text/x-python",
   "name": "python",
   "nbconvert_exporter": "python",
   "pygments_lexer": "ipython3",
   "version": "3.9.20"
  }
 },
 "nbformat": 4,
 "nbformat_minor": 2
}
